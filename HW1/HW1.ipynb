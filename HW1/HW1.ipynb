{
 "cells": [
  {
   "cell_type": "code",
   "execution_count": 91,
   "id": "59a01638",
   "metadata": {},
   "outputs": [],
   "source": [
    "import pandas as pd\n",
    "import matplotlib.pyplot as plt\n",
    "import scipy.stats as stats"
   ]
  },
  {
   "cell_type": "code",
   "execution_count": 2,
   "id": "d2cd269e",
   "metadata": {},
   "outputs": [],
   "source": [
    "df = pd.DataFrame({\"Тяжесть заболевания, баллы\": [0,0,1,1,1,1,1,1,2,2,3,3,3,4,5,5,5,6,9,11], \n",
    "                   \"Коэффициент адгезии\": [1,1.4,1,1,1.9,2,2.5,3,2,3.2,3,3.2,6.3,2.7,3,5,17,5.2,19.8,25]})"
   ]
  },
  {
   "cell_type": "code",
   "execution_count": 39,
   "id": "8eb65db3",
   "metadata": {},
   "outputs": [],
   "source": [
    "df.index += 1"
   ]
  },
  {
   "cell_type": "markdown",
   "id": "f0c371af",
   "metadata": {},
   "source": [
    "## Визуальный анализ"
   ]
  },
  {
   "cell_type": "code",
   "execution_count": 40,
   "id": "97aa46be",
   "metadata": {},
   "outputs": [
    {
     "data": {
      "text/html": [
       "<div>\n",
       "<style scoped>\n",
       "    .dataframe tbody tr th:only-of-type {\n",
       "        vertical-align: middle;\n",
       "    }\n",
       "\n",
       "    .dataframe tbody tr th {\n",
       "        vertical-align: top;\n",
       "    }\n",
       "\n",
       "    .dataframe thead th {\n",
       "        text-align: right;\n",
       "    }\n",
       "</style>\n",
       "<table border=\"1\" class=\"dataframe\">\n",
       "  <thead>\n",
       "    <tr style=\"text-align: right;\">\n",
       "      <th></th>\n",
       "      <th>Тяжесть заболевания, баллы</th>\n",
       "      <th>Коэффициент адгезии</th>\n",
       "    </tr>\n",
       "  </thead>\n",
       "  <tbody>\n",
       "    <tr>\n",
       "      <th>1</th>\n",
       "      <td>0</td>\n",
       "      <td>1.0</td>\n",
       "    </tr>\n",
       "    <tr>\n",
       "      <th>2</th>\n",
       "      <td>0</td>\n",
       "      <td>1.4</td>\n",
       "    </tr>\n",
       "    <tr>\n",
       "      <th>3</th>\n",
       "      <td>1</td>\n",
       "      <td>1.0</td>\n",
       "    </tr>\n",
       "    <tr>\n",
       "      <th>4</th>\n",
       "      <td>1</td>\n",
       "      <td>1.0</td>\n",
       "    </tr>\n",
       "    <tr>\n",
       "      <th>5</th>\n",
       "      <td>1</td>\n",
       "      <td>1.9</td>\n",
       "    </tr>\n",
       "    <tr>\n",
       "      <th>6</th>\n",
       "      <td>1</td>\n",
       "      <td>2.0</td>\n",
       "    </tr>\n",
       "    <tr>\n",
       "      <th>7</th>\n",
       "      <td>1</td>\n",
       "      <td>2.5</td>\n",
       "    </tr>\n",
       "    <tr>\n",
       "      <th>8</th>\n",
       "      <td>1</td>\n",
       "      <td>3.0</td>\n",
       "    </tr>\n",
       "    <tr>\n",
       "      <th>9</th>\n",
       "      <td>2</td>\n",
       "      <td>2.0</td>\n",
       "    </tr>\n",
       "    <tr>\n",
       "      <th>10</th>\n",
       "      <td>2</td>\n",
       "      <td>3.2</td>\n",
       "    </tr>\n",
       "    <tr>\n",
       "      <th>11</th>\n",
       "      <td>3</td>\n",
       "      <td>3.0</td>\n",
       "    </tr>\n",
       "    <tr>\n",
       "      <th>12</th>\n",
       "      <td>3</td>\n",
       "      <td>3.2</td>\n",
       "    </tr>\n",
       "    <tr>\n",
       "      <th>13</th>\n",
       "      <td>3</td>\n",
       "      <td>6.3</td>\n",
       "    </tr>\n",
       "    <tr>\n",
       "      <th>14</th>\n",
       "      <td>4</td>\n",
       "      <td>2.7</td>\n",
       "    </tr>\n",
       "    <tr>\n",
       "      <th>15</th>\n",
       "      <td>5</td>\n",
       "      <td>3.0</td>\n",
       "    </tr>\n",
       "    <tr>\n",
       "      <th>16</th>\n",
       "      <td>5</td>\n",
       "      <td>5.0</td>\n",
       "    </tr>\n",
       "    <tr>\n",
       "      <th>17</th>\n",
       "      <td>5</td>\n",
       "      <td>17.0</td>\n",
       "    </tr>\n",
       "    <tr>\n",
       "      <th>18</th>\n",
       "      <td>6</td>\n",
       "      <td>5.2</td>\n",
       "    </tr>\n",
       "    <tr>\n",
       "      <th>19</th>\n",
       "      <td>9</td>\n",
       "      <td>19.8</td>\n",
       "    </tr>\n",
       "    <tr>\n",
       "      <th>20</th>\n",
       "      <td>11</td>\n",
       "      <td>25.0</td>\n",
       "    </tr>\n",
       "  </tbody>\n",
       "</table>\n",
       "</div>"
      ],
      "text/plain": [
       "    Тяжесть заболевания, баллы  Коэффициент адгезии\n",
       "1                            0                  1.0\n",
       "2                            0                  1.4\n",
       "3                            1                  1.0\n",
       "4                            1                  1.0\n",
       "5                            1                  1.9\n",
       "6                            1                  2.0\n",
       "7                            1                  2.5\n",
       "8                            1                  3.0\n",
       "9                            2                  2.0\n",
       "10                           2                  3.2\n",
       "11                           3                  3.0\n",
       "12                           3                  3.2\n",
       "13                           3                  6.3\n",
       "14                           4                  2.7\n",
       "15                           5                  3.0\n",
       "16                           5                  5.0\n",
       "17                           5                 17.0\n",
       "18                           6                  5.2\n",
       "19                           9                 19.8\n",
       "20                          11                 25.0"
      ]
     },
     "execution_count": 40,
     "metadata": {},
     "output_type": "execute_result"
    }
   ],
   "source": [
    "df"
   ]
  },
  {
   "cell_type": "code",
   "execution_count": 60,
   "id": "b8ec576f",
   "metadata": {},
   "outputs": [
    {
     "data": {
      "image/png": "[encoded data removed]",
      "text/plain": [
       "<Figure size 640x480 with 1 Axes>"
      ]
     },
     "metadata": {},
     "output_type": "display_data"
    }
   ],
   "source": [
    "df.plot(x=\"Коэффициент адгезии\", y=\"Тяжесть заболевания, баллы\", kind=\"scatter\")\n",
    "plt.savefig(\"pic1\")\n",
    "plt.show()"
   ]
  },
  {
   "cell_type": "code",
   "execution_count": 61,
   "id": "7f47f6b7",
   "metadata": {},
   "outputs": [
    {
     "data": {
      "image/png": "[encoded data removed]",
      "text/plain": [
       "<Figure size 640x480 with 1 Axes>"
      ]
     },
     "metadata": {},
     "output_type": "display_data"
    }
   ],
   "source": [
    "plt.plot(df.index, df[\"Тяжесть заболевания, баллы\"])\n",
    "line_blue, = plt.plot(df.index, df[\"Тяжесть заболевания, баллы\"], 'b.')\n",
    "plt.plot(df.index, df[\"Коэффициент адгезии\"], 'r')\n",
    "line_red, = plt.plot(df.index, df[\"Коэффициент адгезии\"], 'r.')\n",
    "plt.xlabel('Номер пациента')\n",
    "plt.ylabel('Показатель')\n",
    "plt.legend([line_blue, line_red], [\"Тяжесть заболевания, баллы\", \"Коэффициент адгезии\"])\n",
    "plt.xticks(df.index)\n",
    "plt.savefig(\"pic2\")\n",
    "plt.show()"
   ]
  },
  {
   "cell_type": "code",
   "execution_count": 70,
   "id": "e217103f",
   "metadata": {},
   "outputs": [
    {
     "data": {
      "image/png": "[encoded data removed]",
      "text/plain": [
       "<Figure size 640x480 with 1 Axes>"
      ]
     },
     "metadata": {},
     "output_type": "display_data"
    }
   ],
   "source": [
    "plt.boxplot([df[\"Коэффициент адгезии\"], df[\"Тяжесть заболевания, баллы\"]], labels=[\"Коэффициент адгезии\", \"Тяжесть заболевания, баллы\"])\n",
    "plt.savefig(\"pic3\")\n",
    "plt.show()"
   ]
  },
  {
   "cell_type": "code",
   "execution_count": 124,
   "id": "45009bbe",
   "metadata": {},
   "outputs": [
    {
     "data": {
      "text/html": [
       "<div>\n",
       "<style scoped>\n",
       "    .dataframe tbody tr th:only-of-type {\n",
       "        vertical-align: middle;\n",
       "    }\n",
       "\n",
       "    .dataframe tbody tr th {\n",
       "        vertical-align: top;\n",
       "    }\n",
       "\n",
       "    .dataframe thead th {\n",
       "        text-align: right;\n",
       "    }\n",
       "</style>\n",
       "<table border=\"1\" class=\"dataframe\">\n",
       "  <thead>\n",
       "    <tr style=\"text-align: right;\">\n",
       "      <th></th>\n",
       "      <th>Тяжесть заболевания, баллы</th>\n",
       "      <th>Коэффициент адгезии</th>\n",
       "    </tr>\n",
       "  </thead>\n",
       "  <tbody>\n",
       "    <tr>\n",
       "      <th>1</th>\n",
       "      <td>0</td>\n",
       "      <td>1.0</td>\n",
       "    </tr>\n",
       "    <tr>\n",
       "      <th>2</th>\n",
       "      <td>0</td>\n",
       "      <td>1.4</td>\n",
       "    </tr>\n",
       "    <tr>\n",
       "      <th>3</th>\n",
       "      <td>1</td>\n",
       "      <td>1.0</td>\n",
       "    </tr>\n",
       "    <tr>\n",
       "      <th>4</th>\n",
       "      <td>1</td>\n",
       "      <td>1.0</td>\n",
       "    </tr>\n",
       "    <tr>\n",
       "      <th>5</th>\n",
       "      <td>1</td>\n",
       "      <td>1.9</td>\n",
       "    </tr>\n",
       "    <tr>\n",
       "      <th>6</th>\n",
       "      <td>1</td>\n",
       "      <td>2.0</td>\n",
       "    </tr>\n",
       "    <tr>\n",
       "      <th>7</th>\n",
       "      <td>1</td>\n",
       "      <td>2.5</td>\n",
       "    </tr>\n",
       "    <tr>\n",
       "      <th>8</th>\n",
       "      <td>1</td>\n",
       "      <td>3.0</td>\n",
       "    </tr>\n",
       "    <tr>\n",
       "      <th>9</th>\n",
       "      <td>2</td>\n",
       "      <td>2.0</td>\n",
       "    </tr>\n",
       "    <tr>\n",
       "      <th>10</th>\n",
       "      <td>2</td>\n",
       "      <td>3.2</td>\n",
       "    </tr>\n",
       "    <tr>\n",
       "      <th>11</th>\n",
       "      <td>3</td>\n",
       "      <td>3.0</td>\n",
       "    </tr>\n",
       "    <tr>\n",
       "      <th>12</th>\n",
       "      <td>3</td>\n",
       "      <td>3.2</td>\n",
       "    </tr>\n",
       "    <tr>\n",
       "      <th>13</th>\n",
       "      <td>3</td>\n",
       "      <td>6.3</td>\n",
       "    </tr>\n",
       "    <tr>\n",
       "      <th>14</th>\n",
       "      <td>4</td>\n",
       "      <td>2.7</td>\n",
       "    </tr>\n",
       "    <tr>\n",
       "      <th>15</th>\n",
       "      <td>5</td>\n",
       "      <td>3.0</td>\n",
       "    </tr>\n",
       "    <tr>\n",
       "      <th>16</th>\n",
       "      <td>5</td>\n",
       "      <td>5.0</td>\n",
       "    </tr>\n",
       "    <tr>\n",
       "      <th>18</th>\n",
       "      <td>6</td>\n",
       "      <td>5.2</td>\n",
       "    </tr>\n",
       "  </tbody>\n",
       "</table>\n",
       "</div>"
      ],
      "text/plain": [
       "    Тяжесть заболевания, баллы  Коэффициент адгезии\n",
       "1                            0                  1.0\n",
       "2                            0                  1.4\n",
       "3                            1                  1.0\n",
       "4                            1                  1.0\n",
       "5                            1                  1.9\n",
       "6                            1                  2.0\n",
       "7                            1                  2.5\n",
       "8                            1                  3.0\n",
       "9                            2                  2.0\n",
       "10                           2                  3.2\n",
       "11                           3                  3.0\n",
       "12                           3                  3.2\n",
       "13                           3                  6.3\n",
       "14                           4                  2.7\n",
       "15                           5                  3.0\n",
       "16                           5                  5.0\n",
       "18                           6                  5.2"
      ]
     },
     "execution_count": 124,
     "metadata": {},
     "output_type": "execute_result"
    }
   ],
   "source": [
    "index_clear = list(range(1, 17))\n",
    "index_clear.append(18)\n",
    "df_clear = df.loc[index_clear]\n",
    "df_clear"
   ]
  },
  {
   "cell_type": "markdown",
   "id": "0ac1208b",
   "metadata": {},
   "source": [
    "## Описательный анализ"
   ]
  },
  {
   "cell_type": "code",
   "execution_count": 97,
   "id": "6c5f903a",
   "metadata": {},
   "outputs": [
    {
     "data": {
      "text/html": [
       "<div>\n",
       "<style scoped>\n",
       "    .dataframe tbody tr th:only-of-type {\n",
       "        vertical-align: middle;\n",
       "    }\n",
       "\n",
       "    .dataframe tbody tr th {\n",
       "        vertical-align: top;\n",
       "    }\n",
       "\n",
       "    .dataframe thead th {\n",
       "        text-align: right;\n",
       "    }\n",
       "</style>\n",
       "<table border=\"1\" class=\"dataframe\">\n",
       "  <thead>\n",
       "    <tr style=\"text-align: right;\">\n",
       "      <th></th>\n",
       "      <th>Тяжесть заболевания, баллы</th>\n",
       "      <th>Коэффициент адгезии</th>\n",
       "    </tr>\n",
       "  </thead>\n",
       "  <tbody>\n",
       "    <tr>\n",
       "      <th>count</th>\n",
       "      <td>20.000000</td>\n",
       "      <td>20.000000</td>\n",
       "    </tr>\n",
       "    <tr>\n",
       "      <th>mean</th>\n",
       "      <td>3.200000</td>\n",
       "      <td>5.460000</td>\n",
       "    </tr>\n",
       "    <tr>\n",
       "      <th>std</th>\n",
       "      <td>2.948684</td>\n",
       "      <td>6.802198</td>\n",
       "    </tr>\n",
       "    <tr>\n",
       "      <th>min</th>\n",
       "      <td>0.000000</td>\n",
       "      <td>1.000000</td>\n",
       "    </tr>\n",
       "    <tr>\n",
       "      <th>25%</th>\n",
       "      <td>1.000000</td>\n",
       "      <td>1.975000</td>\n",
       "    </tr>\n",
       "    <tr>\n",
       "      <th>50%</th>\n",
       "      <td>2.500000</td>\n",
       "      <td>3.000000</td>\n",
       "    </tr>\n",
       "    <tr>\n",
       "      <th>75%</th>\n",
       "      <td>5.000000</td>\n",
       "      <td>5.050000</td>\n",
       "    </tr>\n",
       "    <tr>\n",
       "      <th>max</th>\n",
       "      <td>11.000000</td>\n",
       "      <td>25.000000</td>\n",
       "    </tr>\n",
       "  </tbody>\n",
       "</table>\n",
       "</div>"
      ],
      "text/plain": [
       "       Тяжесть заболевания, баллы  Коэффициент адгезии\n",
       "count                   20.000000            20.000000\n",
       "mean                     3.200000             5.460000\n",
       "std                      2.948684             6.802198\n",
       "min                      0.000000             1.000000\n",
       "25%                      1.000000             1.975000\n",
       "50%                      2.500000             3.000000\n",
       "75%                      5.000000             5.050000\n",
       "max                     11.000000            25.000000"
      ]
     },
     "execution_count": 97,
     "metadata": {},
     "output_type": "execute_result"
    }
   ],
   "source": [
    "df.describe()"
   ]
  },
  {
   "cell_type": "code",
   "execution_count": 89,
   "id": "1271774c",
   "metadata": {},
   "outputs": [
    {
     "data": {
      "text/html": [
       "<div>\n",
       "<style scoped>\n",
       "    .dataframe tbody tr th:only-of-type {\n",
       "        vertical-align: middle;\n",
       "    }\n",
       "\n",
       "    .dataframe tbody tr th {\n",
       "        vertical-align: top;\n",
       "    }\n",
       "\n",
       "    .dataframe thead th {\n",
       "        text-align: right;\n",
       "    }\n",
       "</style>\n",
       "<table border=\"1\" class=\"dataframe\">\n",
       "  <thead>\n",
       "    <tr style=\"text-align: right;\">\n",
       "      <th></th>\n",
       "      <th>Тяжесть заболевания, баллы</th>\n",
       "      <th>Коэффициент адгезии</th>\n",
       "    </tr>\n",
       "  </thead>\n",
       "  <tbody>\n",
       "    <tr>\n",
       "      <th>0</th>\n",
       "      <td>1.0</td>\n",
       "      <td>1.0</td>\n",
       "    </tr>\n",
       "    <tr>\n",
       "      <th>1</th>\n",
       "      <td>NaN</td>\n",
       "      <td>3.0</td>\n",
       "    </tr>\n",
       "  </tbody>\n",
       "</table>\n",
       "</div>"
      ],
      "text/plain": [
       "   Тяжесть заболевания, баллы  Коэффициент адгезии\n",
       "0                         1.0                  1.0\n",
       "1                         NaN                  3.0"
      ]
     },
     "execution_count": 89,
     "metadata": {},
     "output_type": "execute_result"
    }
   ],
   "source": [
    "# Мода\n",
    "df.mode()"
   ]
  },
  {
   "cell_type": "code",
   "execution_count": 83,
   "id": "9b390643",
   "metadata": {},
   "outputs": [
    {
     "data": {
      "text/plain": [
       "Тяжесть заболевания, баллы     8.694737\n",
       "Коэффициент адгезии           46.269895\n",
       "dtype: float64"
      ]
     },
     "execution_count": 83,
     "metadata": {},
     "output_type": "execute_result"
    }
   ],
   "source": [
    "# Дисперсия\n",
    "df.var()"
   ]
  },
  {
   "cell_type": "code",
   "execution_count": 127,
   "id": "e0761490",
   "metadata": {},
   "outputs": [
    {
     "data": {
      "text/html": [
       "<div>\n",
       "<style scoped>\n",
       "    .dataframe tbody tr th:only-of-type {\n",
       "        vertical-align: middle;\n",
       "    }\n",
       "\n",
       "    .dataframe tbody tr th {\n",
       "        vertical-align: top;\n",
       "    }\n",
       "\n",
       "    .dataframe thead th {\n",
       "        text-align: right;\n",
       "    }\n",
       "</style>\n",
       "<table border=\"1\" class=\"dataframe\">\n",
       "  <thead>\n",
       "    <tr style=\"text-align: right;\">\n",
       "      <th></th>\n",
       "      <th>Тяжесть заболевания, баллы</th>\n",
       "      <th>Коэффициент адгезии</th>\n",
       "    </tr>\n",
       "  </thead>\n",
       "  <tbody>\n",
       "    <tr>\n",
       "      <th>count</th>\n",
       "      <td>17.000000</td>\n",
       "      <td>17.000000</td>\n",
       "    </tr>\n",
       "    <tr>\n",
       "      <th>mean</th>\n",
       "      <td>2.294118</td>\n",
       "      <td>2.788235</td>\n",
       "    </tr>\n",
       "    <tr>\n",
       "      <th>std</th>\n",
       "      <td>1.829095</td>\n",
       "      <td>1.523927</td>\n",
       "    </tr>\n",
       "    <tr>\n",
       "      <th>min</th>\n",
       "      <td>0.000000</td>\n",
       "      <td>1.000000</td>\n",
       "    </tr>\n",
       "    <tr>\n",
       "      <th>25%</th>\n",
       "      <td>1.000000</td>\n",
       "      <td>1.900000</td>\n",
       "    </tr>\n",
       "    <tr>\n",
       "      <th>50%</th>\n",
       "      <td>2.000000</td>\n",
       "      <td>2.700000</td>\n",
       "    </tr>\n",
       "    <tr>\n",
       "      <th>75%</th>\n",
       "      <td>3.000000</td>\n",
       "      <td>3.200000</td>\n",
       "    </tr>\n",
       "    <tr>\n",
       "      <th>max</th>\n",
       "      <td>6.000000</td>\n",
       "      <td>6.300000</td>\n",
       "    </tr>\n",
       "  </tbody>\n",
       "</table>\n",
       "</div>"
      ],
      "text/plain": [
       "       Тяжесть заболевания, баллы  Коэффициент адгезии\n",
       "count                   17.000000            17.000000\n",
       "mean                     2.294118             2.788235\n",
       "std                      1.829095             1.523927\n",
       "min                      0.000000             1.000000\n",
       "25%                      1.000000             1.900000\n",
       "50%                      2.000000             2.700000\n",
       "75%                      3.000000             3.200000\n",
       "max                      6.000000             6.300000"
      ]
     },
     "execution_count": 127,
     "metadata": {},
     "output_type": "execute_result"
    }
   ],
   "source": [
    "df_clear.describe()"
   ]
  },
  {
   "cell_type": "code",
   "execution_count": 125,
   "id": "c0e48d89",
   "metadata": {},
   "outputs": [
    {
     "data": {
      "text/html": [
       "<div>\n",
       "<style scoped>\n",
       "    .dataframe tbody tr th:only-of-type {\n",
       "        vertical-align: middle;\n",
       "    }\n",
       "\n",
       "    .dataframe tbody tr th {\n",
       "        vertical-align: top;\n",
       "    }\n",
       "\n",
       "    .dataframe thead th {\n",
       "        text-align: right;\n",
       "    }\n",
       "</style>\n",
       "<table border=\"1\" class=\"dataframe\">\n",
       "  <thead>\n",
       "    <tr style=\"text-align: right;\">\n",
       "      <th></th>\n",
       "      <th>Тяжесть заболевания, баллы</th>\n",
       "      <th>Коэффициент адгезии</th>\n",
       "    </tr>\n",
       "  </thead>\n",
       "  <tbody>\n",
       "    <tr>\n",
       "      <th>0</th>\n",
       "      <td>1.0</td>\n",
       "      <td>1.0</td>\n",
       "    </tr>\n",
       "    <tr>\n",
       "      <th>1</th>\n",
       "      <td>NaN</td>\n",
       "      <td>3.0</td>\n",
       "    </tr>\n",
       "  </tbody>\n",
       "</table>\n",
       "</div>"
      ],
      "text/plain": [
       "   Тяжесть заболевания, баллы  Коэффициент адгезии\n",
       "0                         1.0                  1.0\n",
       "1                         NaN                  3.0"
      ]
     },
     "execution_count": 125,
     "metadata": {},
     "output_type": "execute_result"
    }
   ],
   "source": [
    "# Мода\n",
    "df_clear.mode()"
   ]
  },
  {
   "cell_type": "code",
   "execution_count": 126,
   "id": "34df0d75",
   "metadata": {},
   "outputs": [
    {
     "data": {
      "text/plain": [
       "Тяжесть заболевания, баллы    3.345588\n",
       "Коэффициент адгезии           2.322353\n",
       "dtype: float64"
      ]
     },
     "execution_count": 126,
     "metadata": {},
     "output_type": "execute_result"
    }
   ],
   "source": [
    "# Дисперсия\n",
    "df_clear.var()"
   ]
  },
  {
   "cell_type": "markdown",
   "id": "a0e55956",
   "metadata": {},
   "source": [
    "## Проверка нормальности распределения"
   ]
  },
  {
   "cell_type": "code",
   "execution_count": 135,
   "id": "358dffa8",
   "metadata": {},
   "outputs": [
    {
     "name": "stdout",
     "output_type": "stream",
     "text": [
      "Критерий Шапиро-Уилка\n",
      "Коэффициент адгезии p-value=0.06570\n",
      "Тяжесть заболевания, баллы p-value=0.06533\n"
     ]
    }
   ],
   "source": [
    "stat, p1 = stats.shapiro(df_clear[\"Коэффициент адгезии\"])\n",
    "stat, p2 = stats.shapiro(df_clear[\"Тяжесть заболевания, баллы\"])\n",
    "print(\"Критерий Шапиро-Уилка\")\n",
    "print('Коэффициент адгезии p-value=%.5f' % p1)\n",
    "print('Тяжесть заболевания, баллы p-value=%.5f' % p2)"
   ]
  },
  {
   "cell_type": "code",
   "execution_count": 136,
   "id": "4244596d",
   "metadata": {},
   "outputs": [
    {
     "name": "stdout",
     "output_type": "stream",
     "text": [
      "Критерий Пирсона\n",
      "Коэффициент адгезии p-value=0.18397\n",
      "Тяжесть заболевания, баллы p-value=0.39324\n"
     ]
    }
   ],
   "source": [
    "stat, p1 = stats.normaltest(df_clear[\"Коэффициент адгезии\"])\n",
    "stat, p2 = stats.normaltest(df_clear[\"Тяжесть заболевания, баллы\"])\n",
    "print(\"Критерий Пирсона\")\n",
    "print('Коэффициент адгезии p-value=%.5f' % p1)\n",
    "print('Тяжесть заболевания, баллы p-value=%.5f' % p2)"
   ]
  },
  {
   "cell_type": "code",
   "execution_count": 137,
   "id": "a634e81f",
   "metadata": {},
   "outputs": [
    {
     "name": "stdout",
     "output_type": "stream",
     "text": [
      "Критерий Хи-квадрат\n",
      "Коэффициент адгезии p-value=0.64875\n",
      "Тяжесть заболевания, баллы p-value=0.10511\n"
     ]
    }
   ],
   "source": [
    "stat, p1 = stats.chisquare(df_clear[\"Коэффициент адгезии\"])\n",
    "stat, p2 = stats.chisquare(df_clear[\"Тяжесть заболевания, баллы\"])\n",
    "print(\"Критерий Хи-квадрат\")\n",
    "print('Коэффициент адгезии p-value=%.5f' % p1)\n",
    "print('Тяжесть заболевания, баллы p-value=%.5f' % p2)"
   ]
  },
  {
   "cell_type": "code",
   "execution_count": 141,
   "id": "a481418d",
   "metadata": {},
   "outputs": [
    {
     "name": "stdout",
     "output_type": "stream",
     "text": [
      "Критерий Колмогорова-Смирнова\n",
      "Коэффициент адгезии p-value=0.000000000000054\n",
      "Тяжесть заболевания, баллы p-value=0.0000000014\n"
     ]
    }
   ],
   "source": [
    "stat, p1 = stats.kstest(df_clear[\"Коэффициент адгезии\"], stats.norm.cdf)\n",
    "stat, p2 = stats.kstest(df_clear[\"Тяжесть заболевания, баллы\"], stats.norm.cdf)\n",
    "print(\"Критерий Колмогорова-Смирнова\")\n",
    "print('Коэффициент адгезии p-value=%.15f' % p1)\n",
    "print('Тяжесть заболевания, баллы p-value=%.10f' % p2)"
   ]
  },
  {
   "cell_type": "markdown",
   "id": "fb12f5a1",
   "metadata": {},
   "source": [
    "## Корреляция"
   ]
  },
  {
   "cell_type": "code",
   "execution_count": 143,
   "id": "e8cb247a",
   "metadata": {},
   "outputs": [
    {
     "name": "stdout",
     "output_type": "stream",
     "text": [
      "0.7868702607339076\n"
     ]
    }
   ],
   "source": [
    "c, p = stats.spearmanr(df_clear[\"Коэффициент адгезии\"], df_clear[\"Тяжесть заболевания, баллы\"])\n",
    "print(c)"
   ]
  }
 ],
 "metadata": {
  "kernelspec": {
   "display_name": "Python 3 (ipykernel)",
   "language": "python",
   "name": "python3"
  },
  "language_info": {
   "codemirror_mode": {
    "name": "ipython",
    "version": 3
   },
   "file_extension": ".py",
   "mimetype": "text/x-python",
   "name": "python",
   "nbconvert_exporter": "python",
   "pygments_lexer": "ipython3",
   "version": "3.8.10"
  }
 },
 "nbformat": 4,
 "nbformat_minor": 5
}
